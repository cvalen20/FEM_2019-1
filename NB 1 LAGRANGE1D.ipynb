{
 "cells": [
  {
   "cell_type": "raw",
   "metadata": {
    "raw_mimetype": "text/latex"
   },
   "source": [
    "(c) Juan Gomez 2019. Thanks to Universidad EAFIT for support. This material is part of the course Introduction to Finite Element Analysis"
   ]
  },
  {
   "cell_type": "markdown",
   "metadata": {},
   "source": [
    "# Introduction to One-Dimensional Lagrange Interpolation"
   ]
  },
  {
   "cell_type": "markdown",
   "metadata": {},
   "source": [
    "## Introduction"
   ]
  },
  {
   "cell_type": "markdown",
   "metadata": {},
   "source": [
    "In a broad sense the finite element method is nothing else than an approximation technique for solutions to boundary and initial value problems. The approximation of solutions is achieved primarily using interpolation techniques. In this notebook we will discuss some fundamental and basic aspects of interpolation theory."
   ]
  },
  {
   "cell_type": "markdown",
   "metadata": {},
   "source": [
    "## Lagrange Interpoaltion\n",
    "The problem of interpolation is that of finding the value of a function $f(x)$ at an arbitrary point $x \\in \\left[ {{x_1},{x_n}} \\right]$, provided we have known discrete values of the function inside the domain. According to Lagrange interpolationtheoremthe approximation $\\hat f(x)$  to the function $f(x)$ is built like:\n",
    "\n",
    "\\begin{equation}\n",
    "\\hat f(x)={L^I}(x)f^I\n",
    "\\end{equation}\n",
    "\n",
    "where $L^I$ is the $I$-th Lagrange Polynomial of order $n-1$ and $f^1, f^2,,...,f^n$ are the $n$ known values of the function. The $I$-th Lagrange polynomial is given by the reursive expression:\n",
    "\n",
    "\\begin{equation}\n",
    "{L^I}(x)=\\prod_{J=1, J \\ne I}^{n}{\\frac{{\\left( {x - {x^J}} \\right)}}{{\\left( {{x^I} - {x^J}} \\right)}}} \n",
    "\\end{equation}"
   ]
  },
  {
   "cell_type": "markdown",
   "metadata": {},
   "source": [
    "## Example\n",
    "Formulate an interpolation scheme to find a value of the function:\n",
    "\n",
    " $ f(x)=x^3+4x^2-10 $\n",
    "\n",
    "at an arbitrary point $x$ in the interval $\\left[ {{-1},{1}} \\right]$ assuming we know the exact value of the function at points $x=-1.0$, $x=1.0$ and $x=0.0.$"
   ]
  },
  {
   "cell_type": "markdown",
   "metadata": {},
   "source": [
    "Let us first import some useful Python libraries.\n",
    "\n",
    "* `numpy` is a library to perform matric operations analogous to MATLAB.\n",
    "* `matplotlib` is plotting library."
   ]
  },
  {
   "cell_type": "code",
   "execution_count": 1,
   "metadata": {},
   "outputs": [],
   "source": [
    "from __future__ import division\n",
    "#matplotlib notebook\n",
    "import matplotlib.pyplot as plt\n",
    "import numpy as np\n",
    "from scipy import interpolate\n",
    "import sympy as sym"
   ]
  },
  {
   "cell_type": "markdown",
   "metadata": {},
   "source": [
    "### Lagrange interpolation polynomials"
   ]
  },
  {
   "cell_type": "markdown",
   "metadata": {},
   "source": [
    "First, we define a Python function (or subroutine) to generate the Lagrange polynomial of order $order$ associated to the point $I$. The function will be later invoked from within the main program. The function will be termed LagrangPoly(). In Python we declare a function by the keyword def followed by the function name and its arguments enclosed in barckets. Upon execution the function returns whatever is inlcuded following the keywrod return at the end of the definition."
   ]
  },
  {
   "cell_type": "code",
   "execution_count": 2,
   "metadata": {},
   "outputs": [],
   "source": [
    "def LagrangPoly(x,order,i,xi=None): \n",
    "    if xi==None:\n",
    "        xi=sym.symbols('x:%d'%(order+1))\n",
    "    index = list(range(order+1))\n",
    "    index.pop(i)\n",
    "    return sym.prod([(x-xi[j])/(xi[i]-xi[j]) for j in index])"
   ]
  },
  {
   "cell_type": "markdown",
   "metadata": {},
   "source": [
    "The Lambda option (see sample notebook) is used to code  a fucntion like in calculus. That is the function $f(x)$ per se. In this case $ f(x)=x^3+4x^2-10 $.\n",
    "(You can try different functions)."
   ]
  },
  {
   "cell_type": "code",
   "execution_count": 3,
   "metadata": {},
   "outputs": [],
   "source": [
    "fx = lambda x: x**3+4.0*x**2-10.0\n",
    "#\n",
    "npts = 200\n",
    "yy = np.zeros((npts))          #Create arrays of length npoints to store x-y values\n",
    "xx = np.linspace(-1, 1, npts)  #Assigns npts x-values between -1 and 1"
   ]
  },
  {
   "cell_type": "markdown",
   "metadata": {},
   "source": [
    "With the function at hand we compute the (known) values ready to be used in the interpolation scheme. These values will be stored in the array fd():"
   ]
  },
  {
   "cell_type": "code",
   "execution_count": 4,
   "metadata": {},
   "outputs": [],
   "source": [
    "fd = np.array([fx(-1.0), fx(1.0) ,fx(0.0)]) #These are just the dots in the figure,"
   ]
  },
  {
   "cell_type": "markdown",
   "metadata": {},
   "source": [
    "Evaluate the function at the npoints and plot it:"
   ]
  },
  {
   "cell_type": "code",
   "execution_count": 5,
   "metadata": {},
   "outputs": [
    {
     "data": {
      "text/plain": [
       "[<matplotlib.lines.Line2D at 0x7fead6e916a0>]"
      ]
     },
     "execution_count": 5,
     "metadata": {},
     "output_type": "execute_result"
    },
    {
     "data": {
      "image/png": "[encoded data removed]",
      "text/plain": [
       "<Figure size 432x288 with 1 Axes>"
      ]
     },
     "metadata": {
      "needs_background": "light"
     },
     "output_type": "display_data"
    }
   ],
   "source": [
    "plt.figure(0)\n",
    "yy= fx(xx)       \n",
    "plt.plot(xx, yy ,'r--')\n",
    "plt.plot([-1, 1, 0], fd, 'ko')"
   ]
  },
  {
   "cell_type": "markdown",
   "metadata": {},
   "source": [
    "### Lagrange Polynomials"
   ]
  },
  {
   "cell_type": "markdown",
   "metadata": {},
   "source": [
    "Now, let us obtain the Lagrange polynomials invoking the function LagrangPoly()"
   ]
  },
  {
   "cell_type": "code",
   "execution_count": 6,
   "metadata": {},
   "outputs": [
    {
     "name": "stdout",
     "output_type": "stream",
     "text": [
      "[x*(x - 1)/2, x*(x + 1)/2, -x**2 + 1]\n"
     ]
    }
   ],
   "source": [
    "x= sym.symbols('x')\n",
    "pol = []       #Here we create an empty dynamic array\n",
    "pol.append(sym.simplify(LagrangPoly(x, 2, 0, [-1,1,0])))  #Compute the first poly. and store it in pol[0]\n",
    "pol.append(sym.simplify(LagrangPoly(x, 2, 1, [-1,1,0])))\n",
    "pol.append(sym.simplify(LagrangPoly(x, 2, 2, [-1,1,0])))\n",
    "print(pol)"
   ]
  },
  {
   "cell_type": "markdown",
   "metadata": {
    "collapsed": true
   },
   "source": [
    "Plot the 3 resulting 2-nd order Lagrange polynomials. Notice that these satisfy the property $L^I(x^J)=\\delta^{IJ}$."
   ]
  },
  {
   "cell_type": "code",
   "execution_count": 7,
   "metadata": {},
   "outputs": [
    {
     "data": {
      "image/png": "[encoded data removed]",
      "text/plain": [
       "<Figure size 432x288 with 1 Axes>"
      ]
     },
     "metadata": {
      "needs_background": "light"
     },
     "output_type": "display_data"
    }
   ],
   "source": [
    "plt.figure(1)\n",
    "plt.grid()\n",
    "for k in range(3):\n",
    "    for i in range(npts):\n",
    "        yy[i] = pol[k].subs([(x, xx[i])])\n",
    "    plt.plot(xx, yy)"
   ]
  },
  {
   "cell_type": "markdown",
   "metadata": {
    "collapsed": true
   },
   "source": [
    "### Interpolating polynomial $p(x)$ to approximate $f(x)$\n",
    "Now we build the complete approximating polynomial $p(x)$ according to\n",
    "\n",
    "$$p(x) = {L^0}(x)f({x^0}) + {L^1}(x)f({x^1}) +  {L^2}(x)f({x^2})$$\n"
   ]
  },
  {
   "cell_type": "code",
   "execution_count": 9,
   "metadata": {},
   "outputs": [
    {
     "name": "stdout",
     "output_type": "stream",
     "text": [
      "10.0*x**2 - 3.5*x*(x - 1) - 2.5*x*(x + 1) - 10.0\n"
     ]
    }
   ],
   "source": [
    "print (pol[0]*fd[0]+pol[1]*fd[1]+pol[2]*fd[2])"
   ]
  },
  {
   "cell_type": "markdown",
   "metadata": {},
   "source": [
    "Due to the difference in order between $p(x)$ and the actual function $f(x)$ the interpolating polynomial does not completly matches the function although it captures the right values at the nodal points."
   ]
  },
  {
   "cell_type": "code",
   "execution_count": 11,
   "metadata": {},
   "outputs": [
    {
     "data": {
      "text/plain": [
       "[<matplotlib.lines.Line2D at 0x7fead68e61d0>]"
      ]
     },
     "execution_count": 11,
     "metadata": {},
     "output_type": "execute_result"
    },
    {
     "data": {
      "image/png": "[encoded data removed]",
      "text/plain": [
       "<Figure size 432x288 with 1 Axes>"
      ]
     },
     "metadata": {
      "needs_background": "light"
     },
     "output_type": "display_data"
    }
   ],
   "source": [
    "plt.figure(2)\n",
    "plt.grid()\n",
    "for i in range(npts):\n",
    "    yy[i] = fd[0]*pol[0].subs([(x, xx[i])]) + fd[1]*pol[1].subs([(x, xx[i])]) \\\n",
    "            + fd[2]*pol[2].subs([(x, xx[i])])\n",
    "\n",
    "zz = fx(xx)\n",
    "plt.plot([-1, 1, 0], fd, 'ko')\n",
    "plt.plot(xx, yy , 'r--')\n",
    "plt.plot(xx, zz)"
   ]
  },
  {
   "cell_type": "markdown",
   "metadata": {},
   "source": [
    "### First order derivative\n",
    "The interpolating polynomial can nowbe used to approximate the first order derivative of the \"unknown\" function. The derivative is:\n",
    "\n",
    "$$f'(x)=3x^2+8x$$\n",
    "\n",
    "We use Lambda once again and store the derivatives at the nodes in the array fc()"
   ]
  },
  {
   "cell_type": "code",
   "execution_count": 12,
   "metadata": {},
   "outputs": [],
   "source": [
    "fdx = lambda x: 3*x**2+8.0*x\n",
    "fc = np.array([fdx(-1.0), fdx(1.0) ,fdx(0.0)])"
   ]
  },
  {
   "cell_type": "markdown",
   "metadata": {},
   "source": [
    "The interpolatted derivatives is obtained according to:\n",
    "\n",
    "\n",
    "\\begin{equation}\n",
    "p'(x) = \\frac{dL^0(x)}{dx} f^0 + \\frac{dL^1(x)}{dx}(x) f^1 + \\frac{dL^2(x)}{dx} f^2\n",
    "\\end{equation}"
   ]
  },
  {
   "cell_type": "code",
   "execution_count": 14,
   "metadata": {},
   "outputs": [
    {
     "name": "stdout",
     "output_type": "stream",
     "text": [
      "[x - 1/2, x + 1/2, -2*x]\n",
      "8.0*x + 1.0\n"
     ]
    },
    {
     "data": {
      "text/plain": [
       "[<matplotlib.lines.Line2D at 0x7fead5e76f98>]"
      ]
     },
     "execution_count": 14,
     "metadata": {},
     "output_type": "execute_result"
    },
    {
     "data": {
      "image/png": "[encoded data removed]",
      "text/plain": [
       "<Figure size 432x288 with 1 Axes>"
      ]
     },
     "metadata": {
      "needs_background": "light"
     },
     "output_type": "display_data"
    }
   ],
   "source": [
    "dpol = []\n",
    "dpol.append(sym.diff(pol[0],x))\n",
    "dpol.append(sym.diff(pol[1],x))\n",
    "dpol.append(sym.diff(pol[2],x))\n",
    "print (dpol)\n",
    "print (dpol[0]*fd[0]+dpol[1]*fd[1]+dpol[2]*fd[2])\n",
    "#\n",
    "plt.figure(3)\n",
    "yy= fdx(xx)\n",
    "plt.plot(xx, yy ,'r--')\n",
    "plt.plot([-1, 1, 0], fc, 'ko')\n",
    "#\n",
    "for i in range(npts):\n",
    "    yy[i] = fd[0]*dpol[0].subs([(x, xx[i])]) + fd[1]*dpol[1].subs([(x, xx[i])])+ fd[2]*dpol[2].subs([(x, xx[i])]) \n",
    "plt.plot(xx, yy)"
   ]
  },
  {
   "cell_type": "markdown",
   "metadata": {},
   "source": [
    "### Independent activity\n",
    "Using an independent script (or a new notebook) repeat the interpolation of the function $ f(x)=x^3+4x^2-10 $ after adding to more nodal points at $x^3 = -0.5$ and $x^4 = 0.5$"
   ]
  },
  {
   "cell_type": "code",
   "execution_count": 215,
   "metadata": {},
   "outputs": [
    {
     "data": {
      "text/html": [
       "\n",
       "<link href='http://fonts.googleapis.com/css?family=Fenix' rel='stylesheet' type='text/css'>\n",
       "<link href='http://fonts.googleapis.com/css?family=Alegreya+Sans:100,300,400,500,700,800,900,100italic,300italic,400italic,500italic,700italic,800italic,900italic' rel='stylesheet' type='text/css'>\n",
       "<link href='http://fonts.googleapis.com/css?family=Source+Code+Pro:300,400' rel='stylesheet' type='text/css'>\n",
       "<style>\n",
       "/* Based on Lorena Barba template available at: https://github.com/barbagroup/AeroPython/blob/master/styles/custom.css*/\n",
       "@font-face {\n",
       "font-family: \"Computer Modern\";\n",
       "src: url('http://mirrors.ctan.org/fonts/cm-unicode/fonts/otf/cmunss.otf');\n",
       "}\n",
       "div.cell{\n",
       "width:800px;\n",
       "margin-left:16% !important;\n",
       "margin-right:auto;\n",
       "}\n",
       "h1 {\n",
       "font-family: 'Alegreya Sans', sans-serif;\n",
       "}\n",
       "h2 {\n",
       "font-family: 'Fenix', serif;\n",
       "}\n",
       "h3{\n",
       "font-family: 'Fenix', serif;\n",
       "margin-top:12px;\n",
       "margin-bottom: 3px;\n",
       "}\n",
       "h4{\n",
       "font-family: 'Fenix', serif;\n",
       "}\n",
       "h5 {\n",
       "font-family: 'Alegreya Sans', sans-serif;\n",
       "}\t\n",
       "div.text_cell_render{\n",
       "font-family: 'Alegreya Sans',Computer Modern, \"Helvetica Neue\", Arial, Helvetica, Geneva, sans-serif;\n",
       "line-height: 135%;\n",
       "font-size: 120%;\n",
       "width:600px;\n",
       "margin-left:auto;\n",
       "margin-right:auto;\n",
       "}\n",
       ".CodeMirror{\n",
       "font-family: \"Source Code Pro\";\n",
       "font-size: 90%;\n",
       "}\n",
       "/* .prompt{\n",
       "display: None;\n",
       "}*/\n",
       ".text_cell_render h1 {\n",
       "font-weight: 200;\n",
       "font-size: 50pt;\n",
       "line-height: 100%;\n",
       "color:#CD2305;\n",
       "margin-bottom: 0.5em;\n",
       "margin-top: 0.5em;\n",
       "display: block;\n",
       "}\t\n",
       ".text_cell_render h5 {\n",
       "font-weight: 300;\n",
       "font-size: 16pt;\n",
       "color: #CD2305;\n",
       "font-style: italic;\n",
       "margin-bottom: .5em;\n",
       "margin-top: 0.5em;\n",
       "display: block;\n",
       "}\n",
       ".warning{\n",
       "color: rgb( 240, 20, 20 )\n",
       "}\n",
       "</style>\n",
       "<script>\n",
       "MathJax.Hub.Config({\n",
       "TeX: {\n",
       "extensions: [\"AMSmath.js\"]\n",
       "},\n",
       "tex2jax: {\n",
       "inlineMath: [ ['$','$'], [\"\\\\(\",\"\\\\)\"] ],\n",
       "displayMath: [ ['$$','$$'], [\"\\\\[\",\"\\\\]\"] ]\n",
       "},\n",
       "displayAlign: 'center', // Change this to 'center' to center equations.\n",
       "\"HTML-CSS\": {\n",
       "styles: {'.MathJax_Display': {\"margin\": 4}}\n",
       "}\n",
       "});\n",
       "</script>\n",
       "\n"
      ],
      "text/plain": [
       "<IPython.core.display.HTML object>"
      ]
     },
     "execution_count": 215,
     "metadata": {},
     "output_type": "execute_result"
    }
   ],
   "source": [
    "# This bit of code is a class added to make the title nice  (thanks to @lorenABarba )\n",
    "from IPython.core.display import HTML\n",
    "def css_styling():\n",
    "    styles = open('./styles/custom_barba.css', 'r').read()\n",
    "    return HTML(styles)\n",
    "css_styling()"
   ]
  },
  {
   "cell_type": "code",
   "execution_count": null,
   "metadata": {
    "collapsed": true
   },
   "outputs": [],
   "source": []
  }
 ],
 "metadata": {
  "celltoolbar": "Raw Cell Format",
  "kernelspec": {
   "display_name": "Python 3",
   "language": "python",
   "name": "python3"
  },
  "language_info": {
   "codemirror_mode": {
    "name": "ipython",
    "version": 3
   },
   "file_extension": ".py",
   "mimetype": "text/x-python",
   "name": "python",
   "nbconvert_exporter": "python",
   "pygments_lexer": "ipython3",
   "version": "3.7.1"
  }
 },
 "nbformat": 4,
 "nbformat_minor": 1
}
